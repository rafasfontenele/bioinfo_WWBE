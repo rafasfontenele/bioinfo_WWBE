{
 "cells": [
  {
   "cell_type": "markdown",
   "metadata": {
    "vscode": {
     "languageId": "powershell"
    }
   },
   "source": [
    "1. Process wastewater samples per batch"
   ]
  },
  {
   "cell_type": "code",
   "execution_count": null,
   "metadata": {
    "vscode": {
     "languageId": "powershell"
    }
   },
   "outputs": [],
   "source": [
    "bash wastewater_processing.sh <sample_name> <batch>\n",
    "# bash wasterwater_processing.sh B40 batch1_2022-08-25"
   ]
  },
  {
   "cell_type": "markdown",
   "metadata": {},
   "source": [
    "2. After processing of raw data - get metrics of the sequencing batch"
   ]
  },
  {
   "cell_type": "code",
   "execution_count": null,
   "metadata": {
    "vscode": {
     "languageId": "powershell"
    }
   },
   "outputs": [],
   "source": [
    "bash metrics_samples.sh <batch>"
   ]
  },
  {
   "cell_type": "markdown",
   "metadata": {},
   "source": [
    "3. Processing of GISAID data - downloaded sequences in fasta and metadata in tsv"
   ]
  },
  {
   "cell_type": "code",
   "execution_count": null,
   "metadata": {
    "vscode": {
     "languageId": "powershell"
    }
   },
   "outputs": [],
   "source": [
    "#pre-process metadata and fasta \n",
    "bash gisaid_processing_1.sh <GISAID_download_date> 1\n",
    "#bash gisaid_processing_1.sh 2022-08-15 1\n",
    "\n",
    "# after this step go to GISAID and download redo.list before continuing and save as redo_sequences.fasta\n",
    "\n",
    "bash gisaid_processing_1.sh <GISAID_download_date> 2\n",
    "#bash gisaid_processing_1.sh 2022-08-15 2\n",
    "\n",
    "#Run nextclade and Pangolin on pre-processed GISAID sequences\n",
    "bash gisaid_processing_2.sh <GISAID_download_date>\n",
    "#bash gisaid_processing_2.sh 2022-08-15\n",
    "\n",
    "#Processing Nexclade and Pangolin outputs to obtain insertions, deletions and SNVs associated with each pangolin lineages based on a frequency threshold (used 75%).\n",
    "bash gisaid_processing_3.sh <GISAID_download_date> <frequency_cutoff>\n",
    "#bash gisaid_processing_3.sh 2022-08-15 75.0"
   ]
  },
  {
   "cell_type": "markdown",
   "metadata": {},
   "source": [
    "4. Process Usher tree data"
   ]
  },
  {
   "cell_type": "markdown",
   "metadata": {},
   "source": [
    "Python script to obtain Usher tree data and process it for use into the WWBE pipeline\n",
    "\n",
    "* Every time this code is ran it will get the latest version of the Usher tree, this is why we have the date as the required option to include when running the script. This will generate two output files containing the SNVs associated with each lineage of the SARS-CoV-2 phylogenetic tree. One does not include clade names and the other includes lineage and clade names. It will also create a lineage annotated tree that could be used in iTOL.\n",
    "\n",
    "partial code adapted from freyja code"
   ]
  },
  {
   "cell_type": "code",
   "execution_count": null,
   "metadata": {
    "vscode": {
     "languageId": "powershell"
    }
   },
   "outputs": [],
   "source": [
    "\n",
    "python3 usher_processing.py <Usher_download_date>\n",
    "#python3 usher_processing.py 2022-08-17"
   ]
  },
  {
   "cell_type": "markdown",
   "metadata": {},
   "source": [
    "After generating the formatted files from Usher tree - we need to parse the information to be used by Cov-Dist to compare wastewater samples with SARS-Cov-2 lineages\n",
    "The bellow python script prepares the tsv file to be used the Cov-dist as well as the metadata tsv to be combined with wastewater metadata for plotting.\n",
    "The current script focuses only on Delta and Omicron lineages - OBS: The code needs to be updated to account for name aliases that continue to be created"
   ]
  },
  {
   "cell_type": "code",
   "execution_count": null,
   "metadata": {
    "vscode": {
     "languageId": "powershell"
    }
   },
   "outputs": [],
   "source": [
    "python3 voc_snvs_covdist.py <Usher_download_date>\n",
    "#python3 voc_snvs_covdist.py 2022-08-17"
   ]
  },
  {
   "cell_type": "markdown",
   "metadata": {},
   "source": [
    "5. Obtaining derived SNVs information\n",
    "This step should only be ran after GISAID_processing and Usher_processing codes.\n",
    "Merging the information from GISAID (insertion and deletions) with the Usher tree (SNVs) to be used to create the derived SNVs table."
   ]
  },
  {
   "cell_type": "code",
   "execution_count": null,
   "metadata": {
    "vscode": {
     "languageId": "powershell"
    }
   },
   "outputs": [],
   "source": [
    "bash derived_snvs_preprocessing.sh <GISAID_download_date> <Usher_download_date>"
   ]
  },
  {
   "cell_type": "markdown",
   "metadata": {},
   "source": [
    "6. Freyja processing"
   ]
  },
  {
   "cell_type": "code",
   "execution_count": null,
   "metadata": {
    "vscode": {
     "languageId": "powershell"
    }
   },
   "outputs": [],
   "source": [
    "bash freyja_processing.sh <samples_file>\n",
    "# Sample file is a txt file containing the name of each sample per line\n",
    "\n",
    "freyja aggregate freyja_output/ --output [aggregated-filename.tsv]"
   ]
  }
 ],
 "metadata": {
  "kernelspec": {
   "display_name": "Python 3.9.13 64-bit",
   "language": "python",
   "name": "python3"
  },
  "language_info": {
   "name": "python",
   "version": "3.9.13"
  },
  "orig_nbformat": 4,
  "vscode": {
   "interpreter": {
    "hash": "397704579725e15f5c7cb49fe5f0341eb7531c82d19f2c29d197e8b64ab5776b"
   }
  }
 },
 "nbformat": 4,
 "nbformat_minor": 2
}
