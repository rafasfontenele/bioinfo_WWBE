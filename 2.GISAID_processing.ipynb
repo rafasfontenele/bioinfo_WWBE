{
 "cells": [
  {
   "cell_type": "markdown",
   "metadata": {},
   "source": [
    "Processing of GISAID data - downloaded sequences in fasta and metadata in tsv"
   ]
  },
  {
   "cell_type": "markdown",
   "metadata": {},
   "source": [
    "1 - pre-process metadata and fasta \n",
    "Run step 1 of code and then download the redo.list from GISAID\n",
    "Run step 2 of code after dowloading redo.list"
   ]
  },
  {
   "cell_type": "code",
   "execution_count": null,
   "metadata": {
    "vscode": {
     "languageId": "powershell"
    }
   },
   "outputs": [],
   "source": [
    "#!/bin/bash\n",
    "\n",
    "dataset=$1 #Date of GISAID download which is the name of the folder containing the fasta and metadata file\n",
    "step=$2\n",
    "\n",
    "fasta=\"/gpfs/gsfs12/users/Irp-jiang/share/covid_data/GISAID/${1}/sequences.fasta\"\n",
    "metadata=\"/gpfs/gsfs12/users/Irp-jiang/share/covid_data/GISAID/${1}/metadata.tsv\"\n",
    "\n",
    "if [ $step == \"1\" ]\n",
    "then\n",
    "    mkdir \"/gpfs/gsfs12/users/Irp-jiang/share/rafa_data/GISAID_processing_WWBE/$1\"\n",
    "    mkdir \"/gpfs/gsfs12/users/Irp-jiang/share/rafa_data/GISAID_processing_WWBE/$1/01.processing\"\n",
    "    cd \"/gpfs/gsfs12/users/Irp-jiang/share/rafa_data/GISAID_processing_WWBE/$1/01.processing\"\n",
    "    module load seqtk seqkit\n",
    "    seqkit fx2tab -j 56 $fasta > sequences.tsv\n",
    "    sort -k1,1 sequences.tsv > sequences_sort.tsv\n",
    "    awk '{print $1\"|\"$4\"|\"$16\"\\t\"$3}' FS=\"\\t\" $metadata |sed '1d'|sort -k1,1 -S 80% --parallel 56 > name.tsv\n",
    "    cut -f1 name.tsv|uniq -d >name.d\n",
    "    fgrep -f name.d -w name.tsv|cut -f 2 > redo.list\n",
    "    paste name.tsv sequences_sort.tsv|fgrep -f redo.list -w -v |cut -f 2,4|seqkit -j 56 tab2fx >sequences.rename.fa\n",
    "fi\n",
    "if [ $step == \"2\" ]\n",
    "then \n",
    "    # Download sequences from the redo.list and save as redo_sequences.fasta before running step 2\n",
    "    cd \"/gpfs/gsfs12/users/Irp-jiang/share/rafa_data/GISAID_processing_WWBE/$1/01.processing\"\n",
    "    module load seqtk seqkit\n",
    "    seqkit replace -j 56 -p \"^(.+)\\|(.+)\\|(.+)$\" -r \"\\${2}\" redo_sequences.fasta > sequences.add.fa\n",
    "    cat sequences.rename.fa sequences.add.fa >sequences.acc.fa\n",
    "    seqkit fx2tab sequences.add.fa -n|cat - redo.list |sort |uniq -u > remove.list\n",
    "    module load seqkit\n",
    "    rm sequences.rename.fa sequences.add.fa\n",
    "    rm -rf sequences.tsv name.tsv name.d sequences_sort.tsv\n",
    "    seqkit split sequences.acc.fa -s 50000 -O split\n",
    "fi"
   ]
  },
  {
   "cell_type": "code",
   "execution_count": null,
   "metadata": {
    "vscode": {
     "languageId": "powershell"
    }
   },
   "outputs": [],
   "source": [
    "2. Run nextclade and Pangolin on pre-processed GISAID sequences.\n",
    "\n",
    "First code runs calling the following pangolin and next clade codes as individual bash scripts."
   ]
  },
  {
   "cell_type": "code",
   "execution_count": null,
   "metadata": {
    "vscode": {
     "languageId": "powershell"
    }
   },
   "outputs": [],
   "source": [
    "#!bin/bash\n",
    "#This bash script will set the folders and files to run Nextclade and Pangolin at the same time through swarm\n",
    "#variables\n",
    "wd=$(pwd)\n",
    "version=$1 #Date of GISAID download used to create an output folder for processed filess\n",
    "path=\"/gpfs/gsfs12/users/Irp-jiang/share/rafa_data/GISAID_processing_WWBE/\"\n",
    "\n",
    "# going into the versiond (date)\n",
    "cd $path$version\n",
    "\n",
    "#02.Nextclade\n",
    "#create folder\n",
    "\n",
    "mkdir 02.nextclade\n",
    "cd 02.nextclade\n",
    "\n",
    "#copy the updated run_nextclade.sh to be used \n",
    "cp $wd/run_nextclade.sh $path$version/02.nextclade\n",
    "\n",
    "#run nextclade in split files - creates output file for each split file \n",
    "# create swarm file using split X \n",
    "for file in $path$version/01.processing/split/*; \n",
    "do\n",
    "    base=$(echo $file | cut -d \"/\" -f 12 | cut -d \".\" -f 1,2,3)\n",
    "    echo \"bash run_nextclade.sh \"$base\" \"$version >> run.swarm\n",
    "done\n",
    "\n",
    "# run nextclade swarm\n",
    "swarm -f run.swarm -t 32 -g 80\n",
    "\n",
    "cd ..\n",
    "\n",
    "#03.Pangolin\n",
    "# run pangolin\n",
    "\n",
    "mkdir 03.pangolin\n",
    "cd 03.pangolin\n",
    "\n",
    "#copy the updated run_pangolin.sh to be used\n",
    "cp $wd/run_pangolin.sh $path$version/03.pangolin\n",
    "\n",
    "#this step needs to be done in split files - use the same strategy as nextclade\n",
    "#create swarm file using split X \n",
    "for file in $path$version/01.processing/split/*; \n",
    "do\n",
    "    base=$(echo $file | cut -d \"/\" -f 12 | cut -d \".\" -f 1,2,3)\n",
    "    echo \"bash run_pangolin.sh \"$base\" \"$version >> run.swarm\n",
    "done\n",
    "\n",
    "# run pangolin swarm\n",
    "swarm -f run.swarm -t 32 -g 80"
   ]
  },
  {
   "cell_type": "markdown",
   "metadata": {},
   "source": [
    "Those are the individuals scripts to be called on the above scripts"
   ]
  },
  {
   "cell_type": "code",
   "execution_count": null,
   "metadata": {
    "vscode": {
     "languageId": "powershell"
    }
   },
   "outputs": [],
   "source": [
    "# run_pangolin.sh\n",
    "num=$1\n",
    "version=$2 #Date of GISAID download\n",
    "wd=$(pwd)\n",
    "module load singularity\n",
    "singularity run /gpfs/gsfs12/users/Irp-jiang/share/rafa_data/GISAID_processing_WWBE/auxiliar_files/pangolin/pangolin_4.1.2-pdata-1.13.sif pangolin --outfile ${num}.lineage_report.csv -t 32 /gpfs/gsfs12/users/Irp-jiang/share/rafa_data/GISAID_processing_WWBE/${version}/01.processing/split/${num}.fa\n",
    "sleep 10\n",
    "\n",
    "\n",
    "# run_nextclade.sh\n",
    "\n",
    "num=$1\n",
    "version=$2\n",
    "wd=$(pwd)\n",
    "module load singularity\n",
    "singularity run /gpfs/gsfs12/users/Irp-jiang/share/rafa_data/GISAID_processing_WWBE/auxiliar_files/nextclade/nextclade_2.4.0.sif nextclade run \\\n",
    "   --output-all=${wd}/output/ \\\n",
    "   --in-order \\\n",
    "   --input-dataset=/gpfs/gsfs12/users/Irp-jiang/share/rafa_data/GISAID_processing_WWBE/auxiliar_files/nextclade/data/sars-cov-2/ \\\n",
    "   --output-selection=tsv,csv \\\n",
    "   --output-basename=${num}.nextclade \\\n",
    "   /gpfs/gsfs12/users/Irp-jiang/share/rafa_data/GISAID_processing_WWBE/${version}/01.processing/split/${num}.fa\n",
    "sleep 10\n"
   ]
  },
  {
   "cell_type": "markdown",
   "metadata": {},
   "source": [
    "3. Processing Nexclade and Pangolin outputs to obtain insertions, deletions and SNVs associated with each pangolin lineages based on a frequency threshold (used 75%).\n"
   ]
  },
  {
   "cell_type": "code",
   "execution_count": null,
   "metadata": {
    "vscode": {
     "languageId": "powershell"
    }
   },
   "outputs": [],
   "source": [
    "module load datamash\n",
    "\n",
    "#variables\n",
    "wd=$(pwd)\n",
    "version=$1 #Date of GISAID download and the output folder\n",
    "frequency=$2 #frequency of the insertions, deletions and SNVs\n",
    "path=\"/gpfs/gsfs12/users/Irp-jiang/share/rafa_data/GISAID_processing_WWBE/\"\n",
    "\n",
    "# going into the versiond (date)\n",
    "cd $path$version\n",
    "#organize log files\n",
    "mkdir $path$version/02.nextclade/log\n",
    "mv $path$version/02.nextclade/swarm* $path$version/02.nextclade/log/\n",
    "\n",
    "mkdir $path$version/03.pangolin/log\n",
    "mv $path$version/03.pangolin/swarm* $path$version/03.pangolin/log/\n",
    "\n",
    "#merge files from Nextclade and Pangolin output\n",
    "\n",
    "# merge and select Nextclade\n",
    "awk 'FNR==1 && NR!=1{next;}{print}' $path$version/02.nextclade/output/*.tsv > $path$version/02.nextclade/output/nextclade.tsv\n",
    "\n",
    "#get the samples that passed filters\n",
    "dos2unix $path$version/02.nextclade/output/nextclade.tsv\n",
    "\n",
    "#This was valid before the Nextclade v.1.10.2\n",
    "#awk 'NR==1||$4==\"good\" && $28==\"good\" && $32==\"good\" && $37==\"good\" && $41==\"good\" && $48==\"good\" && $52==\"good\"' FS=$'\\t' $path$version/02.nextclade/output/nextclade.tsv > $path$version/02.nextclade/nextclade.selected.tsv\n",
    "\n",
    "#new collumns after update to nextclade v.1.11.0\n",
    "awk 'NR==1||$5==\"good\" && $38==\"good\" && $42==\"good\" && $47==\"good\" && $51==\"good\" && $58==\"good\" && $62==\"good\"' FS=$'\\t' $path$version/02.nextclade/output/nextclade.tsv > $path$version/02.nextclade/nextclade.selected.tsv\n",
    "\n",
    "#Concatanate de pangolin results:\n",
    "awk '(NR == 1) || (FNR > 1)' $path$version/03.pangolin/*.csv > $path$version/03.pangolin/lineage_report.csv\n",
    "\n",
    "#get the info from samples that passed filter - OLD PANGOLIN - before May 2022 updates\n",
    "#awk '$12==\"passed_qc\"{print $1\"\\t\"$2}' FS=\",\" $path$version/03.pangolin/lineage_report.csv |sort -k1,1 > $path$version/03.pangolin/acc_pangolin.tsv\n",
    "\n",
    "#get the info from samples that passed filter\n",
    "awk '$14==\"pass\"{print $1\"\\t\"$2}' FS=\",\" $path$version/03.pangolin/lineage_report.csv |sort -k1,1 > $path$version/03.pangolin/acc_pangolin.tsv\n",
    "\n",
    "#04.refine\n",
    "\n",
    "mkdir 04.refine\n",
    "\n",
    "awk 'NR>1' $path$version/02.nextclade/nextclade.selected.tsv |sort -k1,1 |join -1 1 -2 1 $path$version/03.pangolin/acc_pangolin.tsv - -t $'\\t'  > $path$version/04.refine/full_table.tsv\n",
    "cat $path$version/04.refine/full_table.tsv | sort -k1,1 -u > $path$version/04.refine/full_table_nodup.tsv\n",
    "\n",
    "\n",
    "#05.sort_SNVs\n",
    "\n",
    "mkdir 05.sort_SNVs\n",
    "cd 05.sort_SNVs\n",
    "cp $wd/get_prevalence.py $path$version/05.sort_SNVs\n",
    "\n",
    "echo -e \"sequence\\tlineage\\tsubstitutions\\tdeletions\\tinsertions\\tprivateNucMutations.reversionSubstitutions\\tprivateNucMutations.labeledSubstitutions\\tprivateNucMutations.unlabeledSubstitutions\" > $path$version/05.sort_SNVs/full_table_info.tsv\n",
    "cat $path$version/04.refine/full_table_nodup.tsv | cut -f 1,2,17,18,19,20,21,22 >> $path$version/05.sort_SNVs/full_table_info.tsv\n",
    "\n",
    "#take out any empy SNPs lines\n",
    "#add one nucleotide per line\n",
    "#get snps info\n",
    "awk '{print $1,$2\",\"$3}' FS=\"\\t\" OFS=\"\\t\" $path$version/05.sort_SNVs/full_table_info.tsv | awk '{for(i=2;i<=NF;i++){print $1\"\\t\"$i}}' FS=\",\" OFS=\"\\t\" > $path$version/05.sort_SNVs/full_table_info_nuc.tsv\n",
    "awk -F '\\t' '$3 != \"\"' full_table_info_nuc.tsv > full_table_info_nuc_nonNAN.tsv\n",
    "#get deletion info\n",
    "awk '{print $1,$2\",\"$4}' FS=\"\\t\" OFS=\"\\t\" $path$version/05.sort_SNVs/full_table_info.tsv | awk '{for(i=2;i<=NF;i++){print $1\"\\t\"$i}}' FS=\",\" OFS=\"\\t\" > $path$version/05.sort_SNVs/full_table_info_del.tsv\n",
    "awk -F '\\t' '$3 != \"\"' full_table_info_del.tsv > full_table_info_del_nonNAN.tsv\n",
    "#get insertion info\n",
    "awk '{print $1,$2\",\"$5}' FS=\"\\t\" OFS=\"\\t\" $path$version/05.sort_SNVs/full_table_info.tsv | awk '{for(i=2;i<=NF;i++){print $1\"\\t\"$i}}' FS=\",\" OFS=\"\\t\" > $path$version/05.sort_SNVs/full_table_info_ins.tsv\n",
    "awk -F '\\t' '$3 != \"\"' full_table_info_ins.tsv > full_table_info_ins_nonNAN.tsv\n",
    "\n",
    "#merge snps, deltetions and insertios\n",
    "cat full_table_info_nuc_nonNAN.tsv full_table_info_del_nonNAN.tsv full_table_info_ins_nonNAN.tsv > full_table_info_all.tsv\n",
    "\n",
    "#merge deletions and insertion to use SNVS from USHER tree\n",
    "cat full_table_info_del_nonNAN.tsv full_table_info_ins_nonNAN.tsv > full_table_info_ins_del.tsv\n",
    "\n",
    "#get count of variants per lineage\n",
    "cat $path$version/05.sort_SNVs/full_table_info_all.tsv | datamash --header-out --sort groupby 3,2 count 1 > $path$version/05.sort_SNVs/full_table_info_all_permut.tsv\n",
    "cat $path$version/05.sort_SNVs/full_table_info_ins_del.tsv | datamash --header-out --sort groupby 3,2 count 1 > $path$version/05.sort_SNVs/full_table_info_ins_del_permut.tsv\n",
    "\n",
    "#get count of total sequences per lineage\n",
    "cat $path$version/05.sort_SNVs/full_table_info.tsv | datamash --header-out --sort groupby 2 countunique 1 > $path$version/05.sort_SNVs/full_table_info_countseqs.tsv\n",
    "\n",
    "#get lineage prevalence using above files\n",
    "python $path$version/05.sort_SNVs/get_prevalence.py full_table_info_countseqs.tsv full_table_info_all_permut.tsv full_table_info_all_final.tsv\n",
    "python $path$version/05.sort_SNVs/get_prevalence.py full_table_info_countseqs.tsv full_table_info_ins_del_permut.tsv full_table_info_ins_del_final.tsv\n",
    "\n",
    "#filter data based on frequency within the lineage - only did it for snvs info since deletions and isertion are already rare\n",
    "cat $path$version/05.sort_SNVs/full_table_info_all_final.tsv | awk -v start=\"${frequency}\" -v end=\"100.0\" -F\"\\t\" '$5>=start && $5<=end' > $path$version/05.sort_SNVs/full_table_info_all_final_gtr${frequency:0:2}.tsv\n",
    "cat $path$version/05.sort_SNVs/full_table_info_ins_del_final.tsv | awk -v start=\"${frequency}\" -v end=\"100.0\" -F\"\\t\" '$5>=start && $5<=end' > $path$version/05.sort_SNVs/full_table_info_ins_del_final_gtr${frequency:0:2}.tsv\n",
    "\n",
    "#put lineage SNPS per line\n",
    "cat $path$version/05.sort_SNVs/full_table_info_all_final_gtr${frequency:0:2}.tsv | datamash --sort groupby 1 count 2 collapse 2 > $path$version/05.sort_SNVs/full_table_info_all_final_gtr${frequency:0:2}_perlin.tsv\n",
    "cat $path$version/05.sort_SNVs/full_table_info_all_final_gtr${frequency:0:2}.tsv | datamash --sort groupby 2 count 1 collapse 1 > $path$version/05.sort_SNVs/full_table_info_all_final_gtr${frequency:0:2}_listsnvs.tsv\n",
    "cat $path$version/05.sort_SNVs/full_table_info_ins_del_final_gtr${frequency:0:2}.tsv | datamash --sort groupby 1 count 2 collapse 2 > $path$version/05.sort_SNVs/full_table_info_ins_del_final_gtr${frequency:0:2}_perlin.tsv\n",
    "cat $path$version/05.sort_SNVs/full_table_info_ins_del_final_gtr${frequency:0:2}.tsv | datamash --sort groupby 2 count 1 collapse 1 > $path$version/05.sort_SNVs/full_table_info_ins_del_final_gtr${frequency:0:2}_listsnvs.tsv\n",
    "#set-up for lineage assingment\n",
    "cd ..\n",
    "mkdir 06.lineage_assingment\n",
    "cd 06.lineage_assingment\n",
    "cp $path$version/05.sort_SNVs/full_table_info_ins_del_final_gtr${frequency:0:2}_listsnvs.tsv ."
   ]
  }
 ],
 "metadata": {
  "kernelspec": {
   "display_name": "Python 3.9.13 64-bit",
   "language": "python",
   "name": "python3"
  },
  "language_info": {
   "name": "python",
   "version": "3.9.13"
  },
  "orig_nbformat": 4,
  "vscode": {
   "interpreter": {
    "hash": "397704579725e15f5c7cb49fe5f0341eb7531c82d19f2c29d197e8b64ab5776b"
   }
  }
 },
 "nbformat": 4,
 "nbformat_minor": 2
}
